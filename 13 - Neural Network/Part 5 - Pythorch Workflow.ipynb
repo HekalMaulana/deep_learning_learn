{
 "cells": [
  {
   "cell_type": "code",
   "execution_count": 1,
   "metadata": {},
   "outputs": [],
   "source": [
    "from luwiji.neural_network import illustration, demo"
   ]
  },
  {
   "cell_type": "markdown",
   "metadata": {},
   "source": [
    "# Pythorch was meant to be flexible\n",
    "\n",
    "Jadi tidak ada workflow yang saklak dan dikembalikan ke masing masing orang <br>\n",
    "Berikut workflow yang Wira gunakan untuk kasus standar\n",
    "- Siapkan dataset dan Dataloader\n",
    "- Bangun arsiteksur\n",
    "- Persiapkan training - MCO\n",
    "- Training loop"
   ]
  },
  {
   "cell_type": "code",
   "execution_count": null,
   "metadata": {},
   "outputs": [],
   "source": []
  }
 ],
 "metadata": {
  "kernelspec": {
   "display_name": "jcopdl",
   "language": "python",
   "name": "python3"
  },
  "language_info": {
   "codemirror_mode": {
    "name": "ipython",
    "version": 3
   },
   "file_extension": ".py",
   "mimetype": "text/x-python",
   "name": "python",
   "nbconvert_exporter": "python",
   "pygments_lexer": "ipython3",
   "version": "3.9.10"
  }
 },
 "nbformat": 4,
 "nbformat_minor": 2
}
